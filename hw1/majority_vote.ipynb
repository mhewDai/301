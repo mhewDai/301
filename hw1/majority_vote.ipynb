{
 "cells": [
  {
   "cell_type": "code",
   "execution_count": 2,
   "id": "29d2ec8e",
   "metadata": {},
   "outputs": [],
   "source": [
    "import numpy as np\n",
    "import sys"
   ]
  },
  {
   "cell_type": "code",
   "execution_count": 3,
   "id": "c4d34ea6",
   "metadata": {},
   "outputs": [],
   "source": [
    "def load_data(file_path):\n",
    "    # Load the data from a .tsv file and return the features and labels\n",
    "    data = np.loadtxt(file_path, delimiter='\\t', skiprows=1)\n",
    "    features, labels = data[:, :-1], data[:, -1]\n",
    "    return features, labels"
   ]
  },
  {
   "cell_type": "code",
   "execution_count": 4,
   "id": "43baf102",
   "metadata": {},
   "outputs": [],
   "source": [
    "def predict_majority(labels):\n",
    "    # Predict the majority class\n",
    "    (values, counts) = np.unique(labels, return_counts=True)\n",
    "    majority_val = values[np.argmax(counts)]\n",
    "    return majority_val"
   ]
  },
  {
   "cell_type": "code",
   "execution_count": 5,
   "id": "36e4abeb",
   "metadata": {},
   "outputs": [],
   "source": [
    "def calculate_error(predictions, labels):\n",
    "    # Calculate the error rate of predictions\n",
    "    errors = predictions != labels\n",
    "    error_rate = errors.mean()\n",
    "    return error_rate"
   ]
  },
  {
   "cell_type": "code",
   "execution_count": 6,
   "id": "b156e5f2",
   "metadata": {},
   "outputs": [],
   "source": [
    "def write_predictions(file_path, predictions):\n",
    "    # Write the predictions to a file\n",
    "    with open(file_path, 'w') as f_out:\n",
    "        for pred in predictions:\n",
    "            f_out.write(f\"{int(pred)}\\n\")"
   ]
  },
  {
   "cell_type": "code",
   "execution_count": 7,
   "id": "759bdc2c",
   "metadata": {},
   "outputs": [],
   "source": [
    "def write_metrics(file_path, train_error, test_error):\n",
    "    # Write the training and testing error to a file\n",
    "    with open(file_path, 'w') as f_out:\n",
    "        f_out.write(f\"error(train): {train_error:.6f}\\n\")\n",
    "        f_out.write(f\"error(test): {test_error:.6f}\\n\")"
   ]
  },
  {
   "cell_type": "code",
   "execution_count": 13,
   "id": "fe545189",
   "metadata": {},
   "outputs": [],
   "source": [
    "def process_dataset(train_input, test_input, train_out, test_out, metrics_out):\n",
    "    # Load training and test data\n",
    "    _, train_labels = load_data(train_input)\n",
    "    _, test_labels = load_data(test_input)\n",
    "\n",
    "    # Determine the majority class from the training data\n",
    "    majority_val = predict_majority(train_labels)\n",
    "\n",
    "    # Predict majority class for training and test sets\n",
    "    train_predictions = np.full_like(train_labels, majority_val)\n",
    "    test_predictions = np.full_like(test_labels, majority_val)\n",
    "\n",
    "    # Write the predictions to output files\n",
    "    write_predictions(train_out, train_predictions)\n",
    "    write_predictions(test_out, test_predictions)\n",
    "\n",
    "    # Calculate and write the error metrics\n",
    "    train_error = calculate_error(train_predictions, train_labels)\n",
    "    test_error = calculate_error(test_predictions, test_labels)\n",
    "    write_metrics(metrics_out, train_error, test_error)\n"
   ]
  },
  {
   "cell_type": "code",
   "execution_count": 16,
   "id": "beb0b12f",
   "metadata": {},
   "outputs": [],
   "source": [
    "# File paths for the heart dataset\n",
    "heart_train_input = '/Users/eir/Downloads/301/hw1/handout/heart_train.tsv'\n",
    "heart_test_input = '/Users/eir/Downloads/301/hw1/handout/heart_test.tsv'\n",
    "heart_train_out = '/Users/eir/Downloads/301/hw1/handout/solutions/heart_train_labels.txt'\n",
    "heart_test_out = '/Users/eir/Downloads/301/hw1/handout/solutions/heart_test_labels.txt'\n",
    "heart_metrics_out = '/Users/eir/Downloads/301/hw1/handout/solutions/heart_metrics.txt'\n",
    "\n",
    "# File paths for the education dataset\n",
    "education_train_input = '/Users/eir/Downloads/301/hw1/handout/education_train.tsv'\n",
    "education_test_input = '/Users/eir/Downloads/301/hw1/handout/education_test.tsv'\n",
    "education_train_out = '/Users/eir/Downloads/301/hw1/handout/solutions/education_train_labels.txt'\n",
    "education_test_out = '/Users/eir/Downloads/301/hw1/handout/solutions/education_test_labels.txt'\n",
    "education_metrics_out = '/Users/eir/Downloads/301/hw1/handout/solutions/education_metrics.txt'"
   ]
  },
  {
   "cell_type": "code",
   "execution_count": 17,
   "id": "ad4de442",
   "metadata": {},
   "outputs": [
    {
     "name": "stdout",
     "output_type": "stream",
     "text": [
      "Processing the heart dataset...\n",
      "Heart dataset processed.\n",
      "Processing the education dataset...\n",
      "Education dataset processed.\n"
     ]
    }
   ],
   "source": [
    "print(\"Processing the heart dataset...\")\n",
    "process_dataset(heart_train_input, heart_test_input, heart_train_out, heart_test_out, heart_metrics_out)\n",
    "print(\"Heart dataset processed.\")\n",
    "\n",
    "# Process the education dataset\n",
    "print(\"Processing the education dataset...\")\n",
    "process_dataset(education_train_input, education_test_input, education_train_out, education_test_out, education_metrics_out)\n",
    "print(\"Education dataset processed.\")"
   ]
  },
  {
   "cell_type": "code",
   "execution_count": null,
   "id": "1ce6830f",
   "metadata": {},
   "outputs": [],
   "source": []
  }
 ],
 "metadata": {
  "kernelspec": {
   "display_name": "Python 3 (ipykernel)",
   "language": "python",
   "name": "python3"
  },
  "language_info": {
   "codemirror_mode": {
    "name": "ipython",
    "version": 3
   },
   "file_extension": ".py",
   "mimetype": "text/x-python",
   "name": "python",
   "nbconvert_exporter": "python",
   "pygments_lexer": "ipython3",
   "version": "3.9.6"
  }
 },
 "nbformat": 4,
 "nbformat_minor": 5
}
